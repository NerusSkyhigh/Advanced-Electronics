{
 "cells": [
  {
   "cell_type": "markdown",
   "metadata": {},
   "source": [
    "# Introduction to Verilog programming on a FPGA device. Counters and frequency dividers.\n",
    "\n",
    "## Laboratory Class 01 - 21 September 2021\n",
    "\n",
    "\n",
    "### Topics\n",
    "- A short overview on FPGA devices and on HDL programming languages.\n",
    "- Introductory problem: design of a 1 Hz counter with 8–LED array display, relying on standard analog and digital circuitry and an 8 Hz clock source.\n",
    "- Basic hardware circuits:\n",
    "    – frequency divider;\n",
    "    – counter.\n",
    "- Verilog programming language:\n",
    "    - module architecture;\n",
    "    - example: development of a 8–bit, 1 Hz counter with an 8–LED array display;\n",
    "    - basic modules implementing basic hardware circuits:\n",
    "        - frequency divider;\n",
    "        - counter.\n",
    "\n",
    "### Problems:\n",
    "- development of an 8–bit, 1 Hz counter with an 8–LED array display, working from 0 to 255;\n",
    "- development of an 8–bit, 1 Hz counter with an 8–LED array display, working from 0 to 9;\n",
    "- development of an 8–bit, 10 Hz counter with an 8–LED array display, working from 0 to 9.\n",
    "\n",
    "### Additional problems:\n",
    "- development of a 10 Hz counter, working from 0 to 99, with a 2–digits BCD[^bcd] coding and a 2 x 4–LED array display;\n",
    "- development of a 10 Hz down counter.\n",
    "\n",
    "---\n",
    "\n",
    "```{admonition} Disclaimer\n",
    "This part of the note does NOT aim to teach Verilog or how to survive in a laboratory. The first can be learned using apposite websites like [hdlbits](https://hdlbits.01xz.net/wiki/Main_Page) while the second skill requires years of training and struggle. The only way to learn how to survive in a laboratory is to be in a lab. It doesn't need to be an expensive one tho. To start a [beginner's FPGA](https://www.nandland.com/goboard/introduction.html) and a [basic oscilloscope](https://espotek.com/labrador/) are enough[^disclaimer]. In the worst-case there even exist simulators. Better than nothing, I guess.\n",
    "```\n",
    "\n",
    "[^bcd]: Binary coded decimal. Each digit is represented using four leds; they are placed in a decimal representation. e.g: $34$ would be written as 0011 0100 in bcd. \n",
    "[^disclaimer]: I studied verilog on hdlbits but I do no own the GoBoard or the EspoTek Labrador Board so I can not say anything about their quality. These are just link to help you start your own researches"
   ]
  },
  {
   "cell_type": "markdown",
   "metadata": {},
   "source": [
    "<!-- ## A short overview on FPGA devices and on HDL programming languages.\n",
    "\n",
    "According to wikipedia, a Field Programmable Gate Array (FPGA) is a device that contain an array of programmable logic blocks, and a hierarchy of reconfigurable interconnects allowing blocks to be wired together. Logic blocks can be configured to perform complex combinational functions, or act as simple logic gates like AND and XOR. In most FPGAs, logic blocks also include memory elements. Many FPGAs can be reprogrammed to implement different logic functions, allowing flexible reconfigurable computing as performed in computer software.  \n",
    "\n",
    "\n",
    "\n",
    "\n",
    "- Basic hardware circuits:\n",
    "    – frequency divider;\n",
    "    – counter.\n",
    "- Verilog programming language:\n",
    "    - module architecture;\n",
    "    - example: development of a 8–bit, 1 Hz counter with an 8–LED array display;\n",
    "    - basic modules implementing basic hardware circuits:\n",
    "        - frequency divider;\n",
    "        - counter. -->"
   ]
  }
 ],
 "metadata": {
  "celltoolbar": "Edit Metadata",
  "kernelspec": {
   "display_name": "Python 3 (ipykernel)",
   "language": "python",
   "name": "python3"
  },
  "language_info": {
   "codemirror_mode": {
    "name": "ipython",
    "version": 3
   },
   "file_extension": ".py",
   "mimetype": "text/x-python",
   "name": "python",
   "nbconvert_exporter": "python",
   "pygments_lexer": "ipython3",
   "version": "3.8.10"
  },
  "widgets": {
   "application/vnd.jupyter.widget-state+json": {
    "state": {},
    "version_major": 2,
    "version_minor": 0
   }
  }
 },
 "nbformat": 4,
 "nbformat_minor": 4
}