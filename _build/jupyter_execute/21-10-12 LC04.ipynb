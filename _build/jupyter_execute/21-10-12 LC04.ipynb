{
 "cells": [
  {
   "cell_type": "markdown",
   "metadata": {},
   "source": [
    "# Implementation of a stopwatch with LCD display\n",
    "## Laboratory Class 03 - 12 October 2021\n",
    "\n",
    "### Topics\n",
    "- Finite-state machines.\n",
    "- Basic hardware circuits:\n",
    "    - data latches.\n",
    "- Verilog programming language:\n",
    "    - peripheral device drivers (ex.gr.: LCD driver with display of the lap mode).\n",
    "\n",
    "## Problems:\n",
    "- implementation of a synchronous 5-state finite-state machine with two pulse control;\n",
    "- final implementation of a stopwatch with 1/100 s resolution, start/stop, lap/reset function, and LCD display.\n",
    "\n",
    "---\n",
    "\n",
    "## Finite-state machines\n",
    "\n",
    "```{admonition} from [wikipedia](https://en.wikipedia.org/wiki/Finite-state_machine)\n",
    "A finite-state machine (FSM) or finite-state automaton (FSA, plural: automata), finite automaton, or simply a state machine, is a mathematical model of computation. It is an abstract machine that can be in exactly one of a finite number of states at any given time. The FSM can change from one state to another in response to some inputs; the change from one state to another is called a transition. An FSM is defined by a list of its states, its initial state, and the inputs that trigger each transition. Finite-state machines are of two types—deterministic finite-state machines and non-deterministic finite-state machines. A deterministic finite-state machine can be constructed equivalent to any non-deterministic one.\n",
    "```\n",
    "Despite the long mathematical definition state machines are simpler than first expected. They just define how to switch from a state to an other depending on an event. Let's make and example with a well know state machine: Pac Man's ghosts:\n",
    "![](https://miro.medium.com/max/1400/0*rVk-GYIMZJMD8Lxd)\n",
    "\n",
    "The image taken from [a medium article](https://mark-truluck.medium.com/the-machine-in-the-ghost-46f856f94ed2) explains the behaviour of the ghosts with states and how they transition from one state to an other accordin to events.\n",
    "\n",
    "States machines can be easily implemented with ```if-else```, ```switch``` construct and ```enums```. Each case correspond to a state and the condition to the event.\n",
    "\n",
    "## Data Latches\n",
    "A data latch is just a way to use D Flip-Flops to store data. Usually a data latch (or register) will store a new value only on a positive edge and will preserve the old value otherwise."
   ]
  }
 ],
 "metadata": {
  "celltoolbar": "Edit Metadata",
  "kernelspec": {
   "display_name": "Python 3 (ipykernel)",
   "language": "python",
   "name": "python3"
  },
  "language_info": {
   "codemirror_mode": {
    "name": "ipython",
    "version": 3
   },
   "file_extension": ".py",
   "mimetype": "text/x-python",
   "name": "python",
   "nbconvert_exporter": "python",
   "pygments_lexer": "ipython3",
   "version": "3.8.10"
  },
  "widgets": {
   "application/vnd.jupyter.widget-state+json": {
    "state": {},
    "version_major": 2,
    "version_minor": 0
   }
  }
 },
 "nbformat": 4,
 "nbformat_minor": 4
}