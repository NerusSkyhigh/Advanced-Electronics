{
 "cells": [
  {
   "cell_type": "markdown",
   "metadata": {},
   "source": [
    "# Waveform generation\n",
    "\n",
    "## Laboratory Class 06 - 11 November 2021\n",
    "\n",
    "### Topics\n",
    "- Basic hardware circuits:\n",
    "    - shift register.\n",
    "- Verilog programming language:\n",
    "    - shift register.\n",
    "\n",
    "## Problems:\n",
    "- implementation of sawtooth waveform generators.\n",
    "\n",
    "---\n",
    "\n",
    "## Shift Registers\n",
    "```{admonition} from [wikipedia](https://en.wikipedia.org/wiki/Shift_register)\n",
    "A shift register is a type of digital circuit using a cascade of flip-flops where the output of one flip-flop is connected to the input of the next. They share a single clock signal, which causes the data stored in the system to shift from one location to the next. By connecting the last flip-flop back to the first, the data can cycle within the shifters for extended periods, and in this form they were used as a form of computer memory.\n",
    "```\n",
    "### Pseudorandom noise generator\n",
    "An interesting application of shift register is pseudorandom noise generator. I'll probably update this section later, but for now you can start from the [xorshift](https://en.wikipedia.org/wiki/Xorshift) method.\n",
    "\n",
    "\n",
    "## Waveforms\n",
    "![](https://upload.wikimedia.org/wikipedia/commons/7/77/Waveforms.svg)\n",
    "\n",
    "### Sinusoidal Wave\n",
    "Will be implemented in a later class.\n",
    "\n",
    "### Square Wave\n",
    "It can be implemented with a simple frequency divider and a bit flip.\n",
    "\n",
    "### Sawtooth Waveform\n",
    "This is an easy one. It is just a matter of implementing a counter and passing the output of the counter to a DAC.\n",
    "\n",
    "### Tringular Waveform\n",
    "A triangular waveform composed of two opposite sawtooth wf one near the other. The descending ramp can easily be implemnted by taking the negation of the counter's output, in this way a single positive counter will handle all the counting.\n",
    "\n",
    "\n"
   ]
  }
 ],
 "metadata": {
  "celltoolbar": "Edit Metadata",
  "kernelspec": {
   "display_name": "Python 3 (ipykernel)",
   "language": "python",
   "name": "python3"
  },
  "language_info": {
   "codemirror_mode": {
    "name": "ipython",
    "version": 3
   },
   "file_extension": ".py",
   "mimetype": "text/x-python",
   "name": "python",
   "nbconvert_exporter": "python",
   "pygments_lexer": "ipython3",
   "version": "3.8.10"
  },
  "widgets": {
   "application/vnd.jupyter.widget-state+json": {
    "state": {},
    "version_major": 2,
    "version_minor": 0
   }
  }
 },
 "nbformat": 4,
 "nbformat_minor": 4
}