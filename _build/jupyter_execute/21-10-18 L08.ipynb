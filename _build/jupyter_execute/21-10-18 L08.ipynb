{
 "cells": [
  {
   "cell_type": "markdown",
   "metadata": {},
   "source": [
    "# Lecture 08 - 18 October 2021\n",
    "\n",
    "This lecture will be focusses on more examples and applications of the simulation theorem.\n",
    "\n",
    "## Low pass filter (again)\n",
    "\\begin{align*}\n",
    "    \\tilde{G}(\\omega) &= \\frac{1}{1-i\\omega \\tau} \\quad \\tau=\\frac{1}{RC}\\\\\n",
    "    V(z)& =\\frac{1-c}{2}\\frac{z+1}{z-c} \\qquad \\text{with } c=\\frac{1-T/2\\tau}{1+T/2\\tau} \\\\\n",
    "\\end{align*}\n",
    "\n",
    "### Properties:\n",
    "1. **Check reality**: as easy as checking $V^*(z^*)=V(z)$\n",
    "2. **Check causality**: $\\left( 0\\not \\in ROC; \\infty\\in ROC \\right)$  \n",
    "  The pole is in $\\tilde{z}=c=\\frac{1-T/2\\tau}{1+T/2\\tau}\\simeq1-\\epsilon$ which is inside $\\Gamma_1$ and one can always find a path $\\Gamma$ such that $\\tilde{z}\\ um\\ \\Gamma \\subset \\Gamma_1$.\n",
    "3. **Bico stability**: checked in the same way as causality\n",
    "4. Behaviour at $\\omega=\\pm \\frac{\\pi}{T}$: fine due to backwrds interpretation of the simulation theorem.\n",
    "\\begin{align*}\n",
    "\\tilde{H}(\\omega)= V\\left( z=e^{-i\\omega T}\\right)=\\frac{1-c}{2}\n",
    "\\end{align*}"
   ]
  },
  {
   "cell_type": "code",
   "execution_count": 1,
   "metadata": {
    "tags": [
     "hide-input"
    ]
   },
   "outputs": [
    {
     "ename": "AttributeError",
     "evalue": "module 'numpy' has no attribute 'log1o'",
     "output_type": "error",
     "traceback": [
      "\u001b[0;31m---------------------------------------------------------------------------\u001b[0m",
      "\u001b[0;31mAttributeError\u001b[0m                            Traceback (most recent call last)",
      "\u001b[0;32m/tmp/ipykernel_16994/2228569199.py\u001b[0m in \u001b[0;36m<module>\u001b[0;34m\u001b[0m\n\u001b[1;32m      4\u001b[0m \u001b[0;34m\u001b[0m\u001b[0m\n\u001b[1;32m      5\u001b[0m \u001b[0mT\u001b[0m\u001b[0;34m=\u001b[0m\u001b[0;36m1\u001b[0m\u001b[0;34m/\u001b[0m\u001b[0;36m1024\u001b[0m \u001b[0;31m# Sampling time\u001b[0m\u001b[0;34m\u001b[0m\u001b[0;34m\u001b[0m\u001b[0m\n\u001b[0;32m----> 6\u001b[0;31m \u001b[0momega\u001b[0m \u001b[0;34m=\u001b[0m \u001b[0mnp\u001b[0m\u001b[0;34m.\u001b[0m\u001b[0marange\u001b[0m\u001b[0;34m(\u001b[0m\u001b[0mstart\u001b[0m\u001b[0;34m=\u001b[0m\u001b[0mnp\u001b[0m\u001b[0;34m.\u001b[0m\u001b[0mlog10\u001b[0m\u001b[0;34m(\u001b[0m\u001b[0;36m5\u001b[0m\u001b[0;34m)\u001b[0m\u001b[0;34m,\u001b[0m \u001b[0mstop\u001b[0m\u001b[0;34m=\u001b[0m\u001b[0mnp\u001b[0m\u001b[0;34m.\u001b[0m\u001b[0mlog1o\u001b[0m\u001b[0;34m(\u001b[0m\u001b[0;36m0.91\u001b[0m\u001b[0;34m*\u001b[0m\u001b[0mnp\u001b[0m\u001b[0;34m.\u001b[0m\u001b[0mpi\u001b[0m\u001b[0;34m/\u001b[0m\u001b[0mT\u001b[0m\u001b[0;34m)\u001b[0m\u001b[0;34m,\u001b[0m \u001b[0mstep\u001b[0m\u001b[0;34m=\u001b[0m\u001b[0mT\u001b[0m\u001b[0;34m)\u001b[0m\u001b[0;34m\u001b[0m\u001b[0;34m\u001b[0m\u001b[0m\n\u001b[0m\u001b[1;32m      7\u001b[0m \u001b[0mf3dB\u001b[0m \u001b[0;34m=\u001b[0m \u001b[0;36m10\u001b[0m \u001b[0;31m# Hz\u001b[0m\u001b[0;34m\u001b[0m\u001b[0;34m\u001b[0m\u001b[0m\n\u001b[1;32m      8\u001b[0m \u001b[0;34m\u001b[0m\u001b[0m\n",
      "\u001b[0;32m/usr/local/lib/python3.8/dist-packages/numpy/__init__.py\u001b[0m in \u001b[0;36m__getattr__\u001b[0;34m(attr)\u001b[0m\n\u001b[1;32m    311\u001b[0m                 \u001b[0;32mreturn\u001b[0m \u001b[0mTester\u001b[0m\u001b[0;34m\u001b[0m\u001b[0;34m\u001b[0m\u001b[0m\n\u001b[1;32m    312\u001b[0m \u001b[0;34m\u001b[0m\u001b[0m\n\u001b[0;32m--> 313\u001b[0;31m             raise AttributeError(\"module {!r} has no attribute \"\n\u001b[0m\u001b[1;32m    314\u001b[0m                                  \"{!r}\".format(__name__, attr))\n\u001b[1;32m    315\u001b[0m \u001b[0;34m\u001b[0m\u001b[0m\n",
      "\u001b[0;31mAttributeError\u001b[0m: module 'numpy' has no attribute 'log1o'"
     ]
    }
   ],
   "source": [
    "from scipy import signal\n",
    "import matplotlib.pyplot as plt\n",
    "import numpy as np\n",
    "\n",
    "T=1/1024 # Sampling time\n",
    "omega = np.arange(start=np.log10(5), stop=np.log1o(0.91*np.pi/T), step=T)\n",
    "f3dB = 10 # Hz\n",
    "\n",
    "omega0=2*np.pi*f3dB\n",
    "tau = 1/(2*np.pi*f3dB)\n",
    "##print(\"T=\\t{:e}\\ntau=\\t{:e}\".format(T, tau))\n",
    "fig, ax = plt.subplots(1, 2, figsize=(15, 5))\n",
    "\n",
    "\n",
    "lp = 1/(1-1j*omega*tau) # Ideal Low pass \n",
    "mag_lp = 20*np.log10(np.abs(lp))\n",
    "phase_lp = np.arctan(np.imag(lp)/np.real(lp))*180/np.pi\n",
    "\n",
    "\n",
    "c = (1-T/(2*tau) ) / (1+T/(2*tau) )\n",
    "lp_bt = 0.5*(1-c)*(np.exp(-1j*omega*T)+1 )/( c*np.exp(-1j*omega*T)-1)\n",
    "mag_lp_bt = 20*np.log10(np.abs(lp_bt))\n",
    "phase_lp_bt = -1*np.arctan( np.imag(lp_bt)/np.real(lp_bt))*180/np.pi\n",
    "\n",
    "\n",
    "ax[0].semilogx(omega, mag_lp, label=\"LP\")    # Bode magnitude plot\n",
    "ax[0].semilogx(omega, mag_lp_bt, \"--\", label=\"Bilinear\")    # Bode magnitude plot\n",
    "\n",
    "ax[1].semilogx(omega, phase_lp, label=\"LP\")\n",
    "ax[1].semilogx(omega, phase_lp_bt, \"--\", label=\"Bilinear\")\n",
    "\n",
    "ax[0].vlines(omega0, min(mag_lp_bt), 20*np.log10(np.abs(1/(1-1j))),linestyles=\":\", label=r\"$2\\pi f_{3dB}$\")\n",
    "ax[1].vlines(omega0, 0, 45, linestyles=\":\", label=r\"$2\\pi f_{3dB}$ [$\\simeq$45°]\")\n",
    "\n",
    "\n",
    "ax[0].set_title(\"Magnitude\");  ax[1].set_title(\"Phase\")\n",
    "ax[0].set_xlabel(r\"$\\omega$ [Hz]\"); ax[0].set_ylabel(r\"Magnitude [dB]\");\n",
    "ax[1].set_xlabel(r\"$\\omega$ [Hz]\"); ax[1].set_ylabel(r\"Phase [deg°]\");\n",
    "ax[0].grid();   ax[1].grid()\n",
    "ax[0].legend(); ax[1].legend()\n",
    "\n",
    "fig.tight_layout()\n",
    "plt.show()"
   ]
  }
 ],
 "metadata": {
  "celltoolbar": "Edit Metadata",
  "kernelspec": {
   "display_name": "Python 3 (ipykernel)",
   "language": "python",
   "name": "python3"
  },
  "language_info": {
   "codemirror_mode": {
    "name": "ipython",
    "version": 3
   },
   "file_extension": ".py",
   "mimetype": "text/x-python",
   "name": "python",
   "nbconvert_exporter": "python",
   "pygments_lexer": "ipython3",
   "version": "3.8.10"
  },
  "widgets": {
   "application/vnd.jupyter.widget-state+json": {
    "state": {},
    "version_major": 2,
    "version_minor": 0
   }
  }
 },
 "nbformat": 4,
 "nbformat_minor": 4
}