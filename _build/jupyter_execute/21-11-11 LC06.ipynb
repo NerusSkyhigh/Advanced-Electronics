{
 "cells": [
  {
   "cell_type": "markdown",
   "metadata": {},
   "source": [
    "# Implementation of a harmonic oscillator\n",
    "\n",
    "## Laboratory Class 05 - 14 October 2021\n",
    "\n",
    "### Topics\n",
    "- Theoretical and experimental aspects linked to the development of a harmonic oscillator:\n",
    "    - general discussion on the difficulty of implementing an oscillator;\n",
    "    - from the differential equation of a forced oscillator to the z–transform of the simulator response function V (z);\n",
    "    - derivation of the difference equation;\n",
    "    - setting of the boundary conditions for the cosine operation;\n",
    "    - dependency of the working frequency $f_0 = \\frac{ω_0}{2\\pi}$ on the parameter k, provided that $ω_0T ≪ 1$: and $f_0 = f_s/\\left( 2^{\\frac{k}{2}+1}\\pi\\right)$, with $f_s = 1/T$.\n",
    "\n",
    "\n",
    "## Problems\n",
    "- implementation and characterization of a harmonic oscillator.\n",
    "\n",
    "\n",
    "---\n",
    "\n",
    "## Harmonic Oscillator\n",
    "\n",
    "### Differential Equation\n",
    "Let's start by writing the differential equation into the \"Laplace\" space or \"s-space\". In this case the Fourier transform is not enough because it can not handle initial conditions.\n",
    "\n",
    "\\begin{align*}\n",
    " \\mathcal{L} \\left\\{ \\ddot{x}+\\omega_0 x\\right\\} &= s^2 \\tilde{x}(s)-s x_0 - \\dot{x}_0 + \\omega_0^2\\tilde{x}(s) = 0 \\\\\n",
    " &\\\\\n",
    " \\tilde{x}(s)&=\\frac{sx_0 + \\dot{x}_0}{s^2+\\omega_0^2}\n",
    "\\end{align*}\n",
    "\n",
    "\n",
    "### Bilinear transform\n",
    "It is possible to obtain the approximate transfer function by applyng the bilinear transform\n",
    "\\begin{align*}\n",
    " \\omega = \\frac{2i}{T}\\frac{z-1}{z+1} + \\mathcal{o}\\left(\\omega^3 T^3\\right) \\qquad s=-i\\omega = + \\frac{2}{T}\\frac{z-1}{z+1}\n",
    "\\end{align*}\n",
    "\n",
    "After the sobstitution we obtain:\n",
    "\\begin{align*}\n",
    "    V(z) &= \\frac{Y(z)}{X(z)}= \\frac{ (z+1)^2 T/4}{(z-1)^2 + (z+1)^2 \\left(\\frac{\\omega T}{2}\\right)}\\\\\n",
    "    \\implies&Y(z)\\left( 1-\\frac{2c}{z}-\\frac{1}{z^2}\\right) = \\frac{N(z)}{z^2} \\\\\n",
    "    \\text{with}\\qquad& c=(1-\\frac{\\omega_0^2 T^2}{4})/(1+\\frac{\\omega_0^2 T^2}{4})\n",
    "    &N(z)=\\frac{(z+1)^2 T/4}{1+\\frac{\\omega_0^2 T^2}{4}}\n",
    "\\end{align*}\n",
    "\n",
    "By inverting the z-transform we get:\n",
    "\\begin{align*}\n",
    "    y[n]-2cy[n-1]+y[n-2]=\\text{boundary conditions}[n]\n",
    "\\end{align*}\n",
    "\n",
    "\n",
    "\n",
    "\n",
    "\n",
    "\n",
    "\n",
    "\n",
    "\n"
   ]
  }
 ],
 "metadata": {
  "celltoolbar": "Edit Metadata",
  "kernelspec": {
   "display_name": "Python 3 (ipykernel)",
   "language": "python",
   "name": "python3"
  },
  "language_info": {
   "codemirror_mode": {
    "name": "ipython",
    "version": 3
   },
   "file_extension": ".py",
   "mimetype": "text/x-python",
   "name": "python",
   "nbconvert_exporter": "python",
   "pygments_lexer": "ipython3",
   "version": "3.8.10"
  },
  "widgets": {
   "application/vnd.jupyter.widget-state+json": {
    "state": {},
    "version_major": 2,
    "version_minor": 0
   }
  }
 },
 "nbformat": 4,
 "nbformat_minor": 4
}