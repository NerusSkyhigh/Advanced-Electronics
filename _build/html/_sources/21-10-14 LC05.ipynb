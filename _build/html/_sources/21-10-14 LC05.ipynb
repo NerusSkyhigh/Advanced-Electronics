{
 "cells": [
  {
   "cell_type": "markdown",
   "metadata": {},
   "source": [
    "# Driving the DACs and the ADCs hosted on the development board. Nyquist–Shannon sampling theorem made real.\n",
    "\n",
    "## Laboratory Class 05 - 14 October 2021\n",
    "\n",
    "### Topics\n",
    "- Numerical representation of natural and integer numbers:\n",
    "    - 2’s complement representation of integers;\n",
    "    - inversion of an integer $(−1) · n = (∼ n) + 1$;\n",
    "    - sum, difference $a − b = a + (−1) · b$, multiplication $a · b = |a| · |b| · sign(a) · sign(b)$;\n",
    "    - multiplication times 2k and division by 2k by means of the shift operator;\n",
    "    - using the 2’s complement representation with ADC/DACs.\n",
    "- Verilog programming language:\n",
    "    - driver of the ADCs placed on the development board;\n",
    "    - driver of the DACs placed on the development board.\n",
    "\n",
    "## Problems\n",
    "- evaluation of the Nyquist frequency and the transfer function gain (voltage-to-number-to-voltage) of a ADC-DAC feedthrough system;\n",
    "- implementation of a delayer.\n",
    "\n",
    "\n",
    "---\n",
    "\n",
    "## Numerical representation of natural and integer numbers:\n",
    "I think everything important I can say is said in [this video](https://youtu.be/ys1ftk5a2A4) and on [wikipedia](https://en.wikipedia.org/wiki/Two%27s_complement).\n",
    "Take time to read through top comments. There are some interesting advices! \n",
    "## Evaluation of the Nyquist frequency\n",
    "This one is a nice one. "
   ]
  }
 ],
 "metadata": {
  "celltoolbar": "Edit Metadata",
  "kernelspec": {
   "display_name": "Python 3 (ipykernel)",
   "language": "python",
   "name": "python3"
  },
  "language_info": {
   "codemirror_mode": {
    "name": "ipython",
    "version": 3
   },
   "file_extension": ".py",
   "mimetype": "text/x-python",
   "name": "python",
   "nbconvert_exporter": "python",
   "pygments_lexer": "ipython3",
   "version": "3.8.10"
  },
  "widgets": {
   "application/vnd.jupyter.widget-state+json": {
    "state": {},
    "version_major": 2,
    "version_minor": 0
   }
  }
 },
 "nbformat": 4,
 "nbformat_minor": 4
}
