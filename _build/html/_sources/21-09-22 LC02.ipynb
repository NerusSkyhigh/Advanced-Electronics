{
 "cells": [
  {
   "cell_type": "markdown",
   "metadata": {},
   "source": [
    "# Multiplexers and demultiplexers\n",
    "## Laboratory Class 02 - 22 September 2021\n",
    "\n",
    "### Topics\n",
    "- Hardware and software architectures:\n",
    "    - combinatorial and sequential circuits;\n",
    "    - synchronous and asynchronous circuits;\n",
    "    - example: asynchronous counter and synchronous version using a finite-state machine.\n",
    "- Basic hardware circuits:\n",
    "    - multiplexer;\n",
    "    - demultiplexer.\n",
    "- Verilog programming language:\n",
    "    - combinatorial (assign) and sequential (always) Verilog modules;\n",
    "    - basic modules implementing basic hardware circuits:\n",
    "        - multiplexer (synchronous and asynchronous version);\n",
    "        - synchronous counter with set to a preset value, and reset;\n",
    "    - blocking and non–blocking assignments.\n",
    "\n",
    "## Problems:\n",
    "- development of a stopwatch from 0 to 99.99 s (1/100 s resolution), with 2–digits BCD coding and a 2 x 4–LED array display;\n",
    "- development of a synchronous counter based on a “master clock”.\n",
    "\n",
    "---\n",
    "\n",
    "## Types of Circuits:\n",
    "- Combinatorial circuits: just a bunch of logic gates put in cascade. There is no way to control the flow of information but, at the same time, you are using all the speed available.\n",
    "- Sequential circuits: circuits where _a_ memory element is present. Usually, it is some kind of flip flop and, therefore, a clock is needed.\n",
    "- Asynchronous circuits: circuits where all the parts are clocked by a single master clock. It assures that all the submodules are synchronized and avoids race condition problems.\n",
    "- Synchronous circuits: different parts of the circuit are clocked with different clocks. Easier to implement and allows for part of the circuit to work at a higher speed. Mitigation for race condition is a handshake protocol where each module has to signal the end of its computation.\n",
    "\n",
    "\n",
    "## D Type Flip Flops\n",
    "\n",
    "![](https://upload.wikimedia.org/wikipedia/commons/c/c4/Flipflopd.png)\n",
    "\n",
    "It is the simplest type of flip flop. At each clock cycle, it can be set to store a $1$ or a $0$ and it will hold it up to a change. It is the basic component of memories.\n",
    "\n",
    "## Multiplexers\n",
    "- (De)Multiplexers are asynchronous combinatorial circuits that allow transmitting data from $n$ different lines with a single data cable and $ceil\\left(log_2(n)\\right)$ selector lines. Only one line can be active at a given time.\n",
    "\n",
    "![Abstract example of multiplexer from wikipedia](https://upload.wikimedia.org/wikipedia/commons/e/e0/Telephony_multiplexer_system.gif)"
   ]
  }
 ],
 "metadata": {
  "celltoolbar": "Edit Metadata",
  "kernelspec": {
   "display_name": "Python 3 (ipykernel)",
   "language": "python",
   "name": "python3"
  },
  "language_info": {
   "codemirror_mode": {
    "name": "ipython",
    "version": 3
   },
   "file_extension": ".py",
   "mimetype": "text/x-python",
   "name": "python",
   "nbconvert_exporter": "python",
   "pygments_lexer": "ipython3",
   "version": "3.8.10"
  },
  "widgets": {
   "application/vnd.jupyter.widget-state+json": {
    "state": {},
    "version_major": 2,
    "version_minor": 0
   }
  }
 },
 "nbformat": 4,
 "nbformat_minor": 4
}
