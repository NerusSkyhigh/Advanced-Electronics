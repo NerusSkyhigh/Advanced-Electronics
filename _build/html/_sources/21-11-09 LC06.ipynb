{
 "cells": [
  {
   "cell_type": "markdown",
   "metadata": {},
   "source": [
    "# Waveform generation\n",
    "\n",
    "## Laboratory Class 06 - 11 November 2021\n",
    "\n",
    "### Topics\n",
    "- Basic hardware circuits:\n",
    "    - shift register.\n",
    "- Verilog programming language:\n",
    "    - shift register.\n",
    "\n",
    "## Problems:\n",
    "- implementation of sawtooth waveform generators.\n",
    "\n",
    "---\n",
    "\n",
    "## Shift Registers\n",
    "```{admonition} from [wikipedia](https://en.wikipedia.org/wiki/Shift_register)\n",
    "A shift register is a type of digital circuit using a cascade of flip-flops where the output of one flip-flop is connected to the input of the next. They share a single clock signal, which causes the data stored in the system to shift from one location to the next. By connecting the last flip-flop back to the first, the data can cycle within the shifters for extended periods, and in this form, they were used as a form of computer memory.\n",
    "```\n",
    "### Pseudorandom noise generator\n",
    "An interesting application of shift register is a pseudorandom noise generator. A 31–bit pseudorandom number generator can be generated in the following way:\n",
    "- Implement a 31–bit shift register (SR),\n",
    "- Feed–back the serial input (i.e. the 0th bit) with the XOR of the 30th and the 27th bit,\n",
    "- Connecting eight randomly selected flip–flop outputs to the eight LEDs;\n",
    "\n",
    "The mathematics of this algorithm is beyond the scope of the course. As usual, [wikipedia](https://en.wikipedia.org/wiki/Xorshift) is a good starting point if you want to dive into the topic. Two remarks are due:\n",
    "- ```31'b0``` is a trivial point that will generate only a static sequence of zeros\n",
    "- The XOR algorithm is not cryptographically secure. DO NOT try to use it when security is a concern. There are faster and better algorithms in that case.\n",
    "\n",
    "## Waveforms\n",
    "![](https://upload.wikimedia.org/wikipedia/commons/7/77/Waveforms.svg)\n",
    "\n",
    "### Sinusoidal Wave\n",
    "Will be implemented in a later class.\n",
    "\n",
    "### Square Wave\n",
    "It can be implemented with a simple frequency divider and a bit flip.\n",
    "\n",
    "### Sawtooth Waveform\n",
    "This is an easy one. It is just a matter of implementing a counter and passing the output of the counter to a DAC.\n",
    "\n",
    "### Triangular Waveform\n",
    "A triangular waveform is composed of two opposite sawtooth waveforms one near the other. The descending ramp can easily be implemented by taking the negation of the counter's output, in this way a single positive counter will handle all the counting.\n",
    "\n",
    "\n"
   ]
  }
 ],
 "metadata": {
  "celltoolbar": "Edit Metadata",
  "kernelspec": {
   "display_name": "Python 3 (ipykernel)",
   "language": "python",
   "name": "python3"
  },
  "language_info": {
   "codemirror_mode": {
    "name": "ipython",
    "version": 3
   },
   "file_extension": ".py",
   "mimetype": "text/x-python",
   "name": "python",
   "nbconvert_exporter": "python",
   "pygments_lexer": "ipython3",
   "version": "3.8.10"
  },
  "widgets": {
   "application/vnd.jupyter.widget-state+json": {
    "state": {},
    "version_major": 2,
    "version_minor": 0
   }
  }
 },
 "nbformat": 4,
 "nbformat_minor": 4
}
