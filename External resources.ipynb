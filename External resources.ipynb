{
 "cells": [
  {
   "cell_type": "markdown",
   "id": "bc47d381",
   "metadata": {},
   "source": [
    "https://www.fpga4student.com/2017/08/what-is-fpga-programming.html\n",
    "https://www.veripool.org/verilator/\n",
    "https://www.fpga4fun.com/HDMI.html \n"
   ]
  }
 ],
 "metadata": {
  "kernelspec": {
   "display_name": "Python 3 (ipykernel)",
   "language": "python",
   "name": "python3"
  },
  "language_info": {
   "codemirror_mode": {
    "name": "ipython",
    "version": 3
   },
   "file_extension": ".py",
   "mimetype": "text/x-python",
   "name": "python",
   "nbconvert_exporter": "python",
   "pygments_lexer": "ipython3",
   "version": "3.8.10"
  }
 },
 "nbformat": 4,
 "nbformat_minor": 5
}
