{
 "cells": [
  {
   "cell_type": "markdown",
   "metadata": {},
   "source": [
    "# Lecture 01 - 13 September 2021\n",
    "\n",
    "## Signals, Systems and Sequences\n",
    "\n",
    "The first lecture consists mostly of definitions and reminders. These are usually boring and rather cumbersome but are nvertheless needed.\n",
    "\n",
    "Let's start with our first definition: signals.\n",
    "\n",
    "### Signals\n",
    "\n",
    "A signal is a function of time and space. Formally, it is a MAP\n",
    "\\begin{align*}\n",
    "    x\\colon\\ &\\ t\\longrightarrow y\\\\\n",
    "    &\\mathcal{R}\\mapsto\\mathcal{R}\n",
    "\\end{align*}\n",
    "\n",
    "\n",
    "It is possible to restrict the domain and the codomain to $\\mathcal{U} \\subset \\mathcal{H}$ so that we have four types of maps:\n",
    "\n",
    "<!-- I've generated these tables with the help of https://www.tablesgenerator.com/html_tables \n",
    "Trust me, you don't want to deal with tables by hand. -->\n",
    "|   FROM \\ TO   \t|    $\\mathcal{R}$    \t|       $\\mathcal{Z}$      \t|\n",
    "|:-------------:\t|:-------------------:\t|:------------------------:\t|\n",
    "| $\\mathcal{R}$ \t|        ANALOG       \t|         NOT USED         \t|\n",
    "| $\\mathcal{Z}$ \t| DIGITAL<br>(theory) \t| DIGITAL<br>(experiments) \t|\n",
    "\n",
    "\n",
    "### SYSTEM\n",
    "\n",
    "In a similar way systems are a MAP between signals\n",
    "\n",
    "| IN $\\rightarrow$ [SYSTEM]$\\rightarrow$ OUT |                                           |\n",
    "|:------------------------------------------:|-------------------------------------------|\n",
    "|       ANALOG $\\longrightarrow$ ANALOG      | Analog System                             |\n",
    "|       ANALOG $\\longrightarrow$ DIGITAL     | Analog to Digital Converter (ADC)         |\n",
    "|       DIGITAL$\\longrightarrow$ ANALOG      | Digital to Analog Converter (DAC)         |\n",
    "|       DIGITAL$\\longrightarrow$ DIGITAL     | Digital system; numeric system; processor |\n",
    "\n",
    "\n",
    "### SEQUENCES\n",
    "\n",
    "Sequences are map from integer numbers to real or integer numbers\n",
    "\n",
    "\\begin{align*}\n",
    "    y\\colon\\ n&\\longrightarrow y[n]\\\\\n",
    "    \\mathcal{Z}&\\longmapsto \\mathcal{R} \\textit{ or } \\mathcal{Z}\n",
    "\\end{align*}\n",
    "\n",
    "Two remarkable sequences are the **Delta / Impulse sequence** and the **Step Sequence**.\n",
    "\n",
    "#### Delta sequence\n",
    "\n",
    "The delta sequency is defined in analogy to the diract delta and the Kronecker delta:\n",
    "\n",
    "\\begin{equation}\n",
    "    \\delta[n] = \\delta_{n,0} = \\left\\{\\begin{array}{lr}\n",
    "        1 \\text{ if } n=0\\\\\n",
    "        0 \\text{ otherwise}\n",
    "        \\end{array}\\right.\n",
    "\\end{equation}\n",
    "\n",
    "#### Step Sequence\n",
    "\n",
    "In a similar way the step sequence is defined in analogy to the Heaviside theta:\n",
    "\n",
    "\\begin{equation}\n",
    "    U[n] = \\left\\{\\begin{array}{lr}\n",
    "        1 \\text{ if } n\\geq0\\\\\n",
    "        0 \\text{ otherwise}\n",
    "        \\end{array}\\right.\n",
    "\\end{equation}"
   ]
  },
  {
   "cell_type": "code",
   "execution_count": 15,
   "metadata": {
    "tags": [
     "hide-input"
    ]
   },
   "outputs": [
    {
     "data": {
      "image/png": "[encoded data removed]",
      "text/plain": [
       "<Figure size 1080x360 with 2 Axes>"
      ]
     },
     "metadata": {
      "needs_background": "light"
     },
     "output_type": "display_data"
    }
   ],
   "source": [
    "import matplotlib.pyplot as plt\n",
    "import numpy as np\n",
    "\n",
    "t = np.arange(-5, 6, 1)\n",
    "delta = np.zeros(t.shape); delta[ t.shape[0]//2] = 1\n",
    "heavi = np.heaviside(t, 1)\n",
    "\n",
    "fig, (ax1, ax2) = plt.subplots(1, 2, figsize=(15, 5))\n",
    "\n",
    "ax1.title.set_text('Delta / Impulse Sequence')\n",
    "ax1.scatter(t, delta, marker='o', label=r\"$\\delta[n]=\\delta_{n,0}$\")\n",
    "ax1.set_xlabel('n'); ax1.set_ylabel('y[n]')\n",
    "ax1.grid(True); ax1.legend(prop={'size': 14})\n",
    "ax1.set_xticks(t)\n",
    "ax1.set_ylim((-1, 2))\n",
    "\n",
    "ax2.title.set_text('Step Sequence')\n",
    "ax2.scatter(t, heavi, marker='o', label=r\"$U[n]$\")\n",
    "ax2.set_xlabel('n'); ax2.set_ylabel('y[n]')\n",
    "ax2.grid(True); ax2.legend(prop={'size': 14})\n",
    "ax2.set_xticks(t)\n",
    "ax2.set_ylim((-1, 2))\n",
    "\n",
    "plt.show()"
   ]
  },
  {
   "cell_type": "code",
   "execution_count": null,
   "metadata": {},
   "outputs": [],
   "source": []
  }
 ],
 "metadata": {
  "celltoolbar": "Edit Metadata",
  "kernelspec": {
   "display_name": "Python 3 (ipykernel)",
   "language": "python",
   "name": "python3"
  },
  "language_info": {
   "codemirror_mode": {
    "name": "ipython",
    "version": 3
   },
   "file_extension": ".py",
   "mimetype": "text/x-python",
   "name": "python",
   "nbconvert_exporter": "python",
   "pygments_lexer": "ipython3",
   "version": "3.8.10"
  },
  "widgets": {
   "application/vnd.jupyter.widget-state+json": {
    "state": {},
    "version_major": 2,
    "version_minor": 0
   }
  }
 },
 "nbformat": 4,
 "nbformat_minor": 4
}
