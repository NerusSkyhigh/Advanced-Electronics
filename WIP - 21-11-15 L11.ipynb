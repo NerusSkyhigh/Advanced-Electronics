{
 "cells": [
  {
   "cell_type": "markdown",
   "metadata": {},
   "source": [
    "# Lecture 11 - 15 November 2021\n",
    "\n",
    "## INFORMATION THEORY\n",
    "\n",
    "In this lecture Information theory will be introduced following the so called Shannon's approach.\n",
    "\n",
    "### definition\n",
    "**Information** is a measure of uncertainty on a random variable\n",
    "\n",
    "### Example: Fair coin vs fake coin\n",
    "\n",
    "#### Fake coin (tail only)\n",
    "Assume to have a fake coin with head on both sides. The probability of obtaining tail or cross are\n",
    "\\begin{align*}\n",
    "\\mathcal{P}(\\text{tail}) &= 1\\\\\n",
    "\\mathcal{P}(\\text{head}) &= 0\\\\\n",
    "\\end{align*}\n",
    "\n",
    "In other words **Information of \\{\"Tossing the coin\"\\}=0** because I already know what the result will be.\n",
    "\n",
    "#### Fair coin\n",
    "In this case the probability of obtaining tail or cross are\n",
    "\\begin{align*}\n",
    "\\mathcal{P}(\\text{tail}) &= 1/2\\\\\n",
    "\\mathcal{P}(\\text{head}) &= 1/2\\\\\n",
    "\\end{align*}\n",
    "\n",
    "**Information of \\{\"Tossing the coin\"\\}>0** because tossing the coin is an unpredictable process.\n",
    "\n",
    "### Ensamble of events\n",
    "\n",
    "\n"
   ]
  }
 ],
 "metadata": {
  "celltoolbar": "Edit Metadata",
  "kernelspec": {
   "display_name": "Python 3 (ipykernel)",
   "language": "python",
   "name": "python3"
  },
  "language_info": {
   "codemirror_mode": {
    "name": "ipython",
    "version": 3
   },
   "file_extension": ".py",
   "mimetype": "text/x-python",
   "name": "python",
   "nbconvert_exporter": "python",
   "pygments_lexer": "ipython3",
   "version": "3.8.10"
  },
  "widgets": {
   "application/vnd.jupyter.widget-state+json": {
    "state": {},
    "version_major": 2,
    "version_minor": 0
   }
  }
 },
 "nbformat": 4,
 "nbformat_minor": 4
}
