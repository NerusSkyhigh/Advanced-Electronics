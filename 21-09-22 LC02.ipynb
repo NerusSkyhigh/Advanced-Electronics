{
 "cells": [
  {
   "cell_type": "markdown",
   "metadata": {},
   "source": [
    "# Multiplexers and demultiplexers\n",
    "## Laboratory Class 02 - 22 September 2021\n",
    "\n",
    "### Topics\n",
    "- Hardware and software architectures:\n",
    "    - combinatorial and sequential circuits;\n",
    "    - synchronous and asynchronous circuits;\n",
    "    - example: asynchronous counter and synchronous version by means of a finite-state machine.\n",
    "- Basic hardware circuits:\n",
    "    - multiplexer;\n",
    "    - demultiplexer.\n",
    "- Verilog programming language:\n",
    "    - combinatorial (assign) and sequential (always) Verilog modules;\n",
    "    - basic modules implementing basic hardware circuits:\n",
    "        - multiplexer (synchronous and asynchronous version);\n",
    "        - synchronous counter with set to a preset value, and reset;\n",
    "    - blocking and non–blocking assignments.\n",
    "\n",
    "## Problems:\n",
    "- development of a stopwatch from 0 to 99.99 s (1/100 s resolution), with 2–digits BCD coding and a 2 x 4–LED array display;\n",
    "- development of a syncronous counter based on a “master clock”.\n",
    "\n",
    "---\n",
    "\n"
   ]
  }
 ],
 "metadata": {
  "celltoolbar": "Edit Metadata",
  "kernelspec": {
   "display_name": "Python 3 (ipykernel)",
   "language": "python",
   "name": "python3"
  },
  "language_info": {
   "codemirror_mode": {
    "name": "ipython",
    "version": 3
   },
   "file_extension": ".py",
   "mimetype": "text/x-python",
   "name": "python",
   "nbconvert_exporter": "python",
   "pygments_lexer": "ipython3",
   "version": "3.8.10"
  },
  "widgets": {
   "application/vnd.jupyter.widget-state+json": {
    "state": {},
    "version_major": 2,
    "version_minor": 0
   }
  }
 },
 "nbformat": 4,
 "nbformat_minor": 4
}
